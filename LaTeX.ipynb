{
 "cells": [
  {
   "cell_type": "markdown",
   "metadata": {},
   "source": [
    "Resource : https://nbviewer.jupyter.org/github/twistedhardware/mltutorial/blob/master/notebooks/jupyter/2.%20Markdown%20%26%20LaTeX.ipynb"
   ]
  },
  {
   "cell_type": "markdown",
   "metadata": {},
   "source": [
    "Inline mathematical forumla : $y = x^2$ . \n",
    "Block will look like this : $$y = x^2$$"
   ]
  },
  {
   "cell_type": "markdown",
   "metadata": {},
   "source": [
    "##### Operators"
   ]
  },
  {
   "cell_type": "markdown",
   "metadata": {},
   "source": [
    "- Add: \n",
    "    - $x+y$\n",
    "- Subtract:\n",
    "    - $x-y$\n",
    "- Multiply:\n",
    "    - $x * y$\n",
    "    - $x . y$\n",
    "    - $x \\times y$\n",
    "- Divide:\n",
    "    - $x / y$\n",
    "    - $x \\div y$\n",
    "    - $\\frac{x}{y}$"
   ]
  },
  {
   "cell_type": "markdown",
   "metadata": {},
   "source": [
    "##### Relations"
   ]
  },
  {
   "cell_type": "markdown",
   "metadata": {},
   "source": [
    "- $\\pi \\approx 3.14159$\n",
    "- $\\frac{1}{0} \\neq \\infty$\n",
    "- ${1 \\over 0} \\neq \\infty$\n",
    "- $0 < x > 1$\n",
    "- $0 \\leq x \\geq 1$"
   ]
  },
  {
   "cell_type": "markdown",
   "metadata": {},
   "source": [
    "##### Fractions"
   ]
  },
  {
   "cell_type": "markdown",
   "metadata": {},
   "source": [
    "- $^1/_2$\n",
    "- $\\frac{1}{2x}$\n",
    "- $3 \\over 4$"
   ]
  },
  {
   "cell_type": "markdown",
   "metadata": {},
   "source": [
    "##### Greek Alphabet"
   ]
  },
  {
   "cell_type": "markdown",
   "metadata": {},
   "source": [
    "- Alpha: $\\alpha$ & $A$\n",
    "- Beta: $\\beta$ & $B$\n",
    "- Gamma: $\\gamma$  &  $\\Gamma$\n",
    "- Delta: $\\delta$ & $\\Delta$\n",
    "- Epsilon: $\\epsilon$ & $E$ & $\\varepsilon$\n",
    "- Zeta: $\\zeta$ & $Z$\n",
    "- Eta: $\\eta$ & $H$\n",
    "- Theta: $\\theta$ & $\\Theta$ & $\\vartheta$\n",
    "- Zeta: $\\zeta$ & $I$\n",
    "- Kappa $\\kappa$ & $K$ & $\\varkappa$\n",
    "- Lambda $\\lambda$ & $\\Lambda$\n",
    "- Mu: $\\mu$ & $M$\n",
    "- Nu: $\\nu$ & $N$\n",
    "- Xi: $\\xi$ & $\\Xi$\n",
    "- Omicron $\\omicron$ & $O$\n",
    "- Pi: $\\pi$ & $\\Pi$ & $\\varpi$\n",
    "- Rho: $\\rho$ & $P$ & $\\varrho$\n",
    "- Sigma: $\\sigma$ & $\\Sigma$ & $\\varsigma$\n",
    "- Tau: $\\tau$ & $T$\n",
    "- Upsilon: $\\upsilon$ & $\\Upsilon$\n",
    "- Phi: $\\phi$ & $\\Phi$ & $\\varphi$\n",
    "- Chi: $chi$ & $X$\n",
    "- Psi: $\\psi$ & $\\Psi$\n",
    "- Omega: $\\omega$ & $\\Omega$"
   ]
  },
  {
   "cell_type": "markdown",
   "metadata": {},
   "source": [
    "##### Power & Index"
   ]
  },
  {
   "cell_type": "markdown",
   "metadata": {},
   "source": [
    "$$f(x) = x^2 - x^{1 \\over \\pi}$$\n",
    "$$f(X,n) =  X_n + X_{n-1}$$"
   ]
  },
  {
   "cell_type": "markdown",
   "metadata": {},
   "source": [
    "##### Roots & Log"
   ]
  },
  {
   "cell_type": "markdown",
   "metadata": {},
   "source": [
    "$$f(x) = \\sqrt[3]{2x} + \\sqrt{x-2}$$"
   ]
  },
  {
   "cell_type": "markdown",
   "metadata": {},
   "source": [
    "$$\\log[10]{x} = 1$$"
   ]
  },
  {
   "cell_type": "markdown",
   "metadata": {},
   "source": [
    "##### Sums & Products"
   ]
  },
  {
   "cell_type": "markdown",
   "metadata": {},
   "source": [
    "$$\\sum\\limits_{x=1}^{\\infty} {1 \\over x} = 2$$\n",
    "$$\\prod\\limits_{i=1}^{n} x_i - 1$$"
   ]
  },
  {
   "cell_type": "markdown",
   "metadata": {},
   "source": [
    "##### Statistics"
   ]
  },
  {
   "cell_type": "markdown",
   "metadata": {},
   "source": [
    "$$max(S) = \\max\\limits_{i: S_i \\in \\{S\\}} S_i$$\n",
    "$$min(S) = \\min\\limits_{i: S_i \\in \\{S\\}} S_i$$\n",
    "$${n \\choose k} = \\frac{n!}{k!(n-k)!}$$"
   ]
  },
  {
   "cell_type": "markdown",
   "metadata": {},
   "source": [
    "##### Calculus"
   ]
  },
  {
   "cell_type": "markdown",
   "metadata": {},
   "source": [
    "$$\\lim\\limits_{x \\to 0^+} {1 \\over 0} = \\infty$$\n",
    "$$\\int\\limits_a^b 2x \\, dx$$"
   ]
  },
  {
   "cell_type": "markdown",
   "metadata": {},
   "source": [
    "##### Function definition over periods"
   ]
  },
  {
   "cell_type": "markdown",
   "metadata": {},
   "source": [
    "$$f(x) =\n",
    "\\left\\{\n",
    "    \\begin{array}{ll}\n",
    "        0  & \\mbox{if } x = 0 \\\\\n",
    "        {1 \\over x} & \\mbox{if } x \\neq 0\n",
    "    \\end{array}\n",
    "\\right.$$"
   ]
  },
  {
   "cell_type": "markdown",
   "metadata": {},
   "source": [
    "##### Normal Distribution"
   ]
  },
  {
   "cell_type": "markdown",
   "metadata": {},
   "source": [
    "$$P(x, \\sigma, \\mu) =  {1 \\over {\\sigma \\sqrt{2 \\pi}}} e^{-(x-\\mu)^2/2 \\sigma^2}$$"
   ]
  },
  {
   "cell_type": "code",
   "execution_count": null,
   "metadata": {},
   "outputs": [],
   "source": []
  }
 ],
 "metadata": {
  "kernelspec": {
   "display_name": "Python 3",
   "language": "python",
   "name": "python3"
  },
  "language_info": {
   "codemirror_mode": {
    "name": "ipython",
    "version": 3
   },
   "file_extension": ".py",
   "mimetype": "text/x-python",
   "name": "python",
   "nbconvert_exporter": "python",
   "pygments_lexer": "ipython3",
   "version": "3.7.6"
  }
 },
 "nbformat": 4,
 "nbformat_minor": 4
}
