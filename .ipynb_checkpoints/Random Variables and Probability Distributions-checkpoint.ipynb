{
 "cells": [
  {
   "cell_type": "markdown",
   "metadata": {},
   "source": [
    "## Probability Distributions - intro"
   ]
  },
  {
   "cell_type": "markdown",
   "metadata": {},
   "source": [
    "Why do we need to talk about probability distributions? What does it have to do with data ?\n",
    "\n",
    "In the plot below, the histogram represents data itself and the curve represent a mathematical function called Distribution\n",
    "\n",
    "Probability distribution is a way of describing data (not summarizing as distribution is fairly comprehensive as it gives a full shape of your data)\n",
    "\n",
    "To think of a data set as random numbers that are being generated in accordance to some mathematical functions is the whole idea behind 'Probability Distribution'"
   ]
  },
  {
   "cell_type": "code",
   "execution_count": 8,
   "metadata": {},
   "outputs": [],
   "source": [
    "import numpy as np\n",
    "import pandas as pd\n",
    "import seaborn as sns\n",
    "import matplotlib.pyplot as plt"
   ]
  },
  {
   "cell_type": "code",
   "execution_count": 15,
   "metadata": {},
   "outputs": [
    {
     "data": {
      "text/plain": [
       "<matplotlib.axes._subplots.AxesSubplot at 0x1e598809848>"
      ]
     },
     "execution_count": 15,
     "metadata": {},
     "output_type": "execute_result"
    },
    {
     "data": {
      "image/png": "[encoded data removed]",
      "text/plain": [
       "<Figure size 432x288 with 1 Axes>"
      ]
     },
     "metadata": {
      "needs_background": "light"
     },
     "output_type": "display_data"
    }
   ],
   "source": [
    "num = np.random.randn(150) # normally distributed n numbers\n",
    "sns.distplot(num, color='g')"
   ]
  },
  {
   "cell_type": "markdown",
   "metadata": {},
   "source": [
    "## Random Variables"
   ]
  },
  {
   "cell_type": "markdown",
   "metadata": {},
   "source": [
    "Random Variable : A variable whose value is subject to variation due to randomness.\n",
    "\n",
    "Variable Vs Random Variable : Once you fix all the externalities, regular variable takes on a specific value, like \n",
    "    $$f = m * a$$\n",
    "Once I fix mass $m$ and acceleration $a$, force $f$ will take one specific value.\n",
    "    \n",
    "However, provided all externalities are fixed, random variables can still take a set of possible values which could be a very large set, i.e, varaible can take many possible values and each of those values have a specific probability associated with it.\n",
    "\n",
    "The mathematical function describing this randomness (the probability for the set of possible values a random variable can take) is called a probability distribution.\n",
    "\n",
    "Probability distribution can be categorised as below :\n",
    "- Discrete probability distribution : Outcom of random variable is discrete\n",
    "- Continuous probability distribution : Outcome of random variable is continuous\n",
    "\n",
    "Sum of all discrete or continuous probabilities should add up to 1 or 100%\n",
    "\n",
    "For each Probability Density Function (PDF) there exist a Cumulative Density Function (CDF)\n",
    "\n",
    "CDF describes cumulative probability upto a certain point from starting point.\n",
    "\n",
    "PDF -> $\\int\\limits_a^b f(x) \\, dx$ -> CDF <br>\n",
    "CDF -> $\\frac{\\partial f(x)}{\\partial x}$ -> PDF"
   ]
  },
  {
   "cell_type": "markdown",
   "metadata": {},
   "source": [
    "## Uniform Distribution\n",
    "\n",
    "can be discrete as well as continuous"
   ]
  },
  {
   "cell_type": "markdown",
   "metadata": {},
   "source": [
    "- Discrete\n",
    "    - Example - roll a six sided dice, toss a coin\n",
    "    - PDF formula: $f(X = x) = {1 \\over k} $ $\\forall x \\in $ a specific set with $k$ elements <br>\n",
    "    And $f(X = x) = 0 ,  \\forall $  other values of $x$\n",
    "    \n",
    "- Continuous\n",
    "    - Number of seconds past the minute\n",
    "    - Exact age of a randomly selected person between the ages of 50-60\n",
    "    - PDF Formula:\n",
    "    $$f(x) =\n",
    "\\left\\{\n",
    "    \\begin{array}{ll}\n",
    "        1 \\over (b - a)  & \\mbox{for } a \\leq x \\geq b \\\\\n",
    "        0 & \\mbox{for } x < a \\& x > b\n",
    "    \\end{array}\n",
    "\\right.$$\n",
    "\n",
    "    - CDF Formula: $$(x-a) \\over (b-a)$$\n",
    "    - Mean: $${1 \\over 2} (b+a)$$\n",
    "    - Variance: $${1 \\over 12}(b-a)^2$$"
   ]
  },
  {
   "cell_type": "markdown",
   "metadata": {},
   "source": [
    "**bernoulli distribution**: when outcome can take only 2 discrete values, like probability of head or tail, probability of rain today. Outcome value need not be same as in case of Uniform distribution."
   ]
  },
  {
   "cell_type": "markdown",
   "metadata": {},
   "source": [
    "## Binomial Distribution\n",
    "\n",
    "Essentailly performing bernoulli process $n$ number of times and asking for $k$ success"
   ]
  },
  {
   "cell_type": "markdown",
   "metadata": {},
   "source": [
    "- Example: Probability of 5 heads out of 10 tosses, Probability of 3 out of 10 mergers. Probability of there being 5 defective products in a batch of 20\n",
    "- PMF Formula: $${n \\choose k} p^k(1-p)^{n-k}$$\n",
    "- here ${n \\choose k}$ = $${n \\choose k} = \\frac{n!}{k!(n-k)!}$$\n",
    "- PMF = Probability Mass Function is the standard way of calling PDF when we are dealing with Discrete Probability Distribution\n",
    "- Note: For large $n$ calculation can get really messy, use another distribution instead\n",
    "- Formula for CDF is just the summation\n",
    "    - Example: question is 'What is the probability of getting 6 heads out of 10 tosses', then CDF will be summation of following PDFs '0 heads out of 10 tosses', '1 heads out of 10 tosses', '2 heads out of 10 tosses', '3 heads out of 10 tosses', '4 heads out of 10 tosses', '5 heads out of 10 tosses', '6 heads out of 10 tosses'\n",
    "- Mean: $$np$$\n",
    "- Variance: $$np(1-p)$$"
   ]
  },
  {
   "cell_type": "markdown",
   "metadata": {},
   "source": [
    "## Poisson Distribution"
   ]
  },
  {
   "cell_type": "markdown",
   "metadata": {},
   "source": [
    "- Discrete distribution that signifies the probability of $x$ occurances of a certain event over a certain period of time or space.\n",
    "- In Binomial distribution, outcome as well as trial both are discrete, however in case of poisson, outcome is discrete while 'out of' is continuous like time or space\n",
    "- Examples: Number of defaults per month, Number of banks per square kilomiter, probability of arrival of 3 people at bus stand in last 5 minutes\n",
    "- PMF (not PDF): $${\\lambda^k \\over k!} e^{-\\lambda}$$\n",
    "    - $\\lambda$ here is average rate, example : 3 people per minute\n",
    "    - $k$ is the variable of interest, technically value of $k$ can go from 0 upto $\\infty$.\n",
    "- Example : $\\lambda$ = 2 person per min is the average rate, $k$ = arrival of 0/1/2/3/4... person, then above formula will give exact probability of arraival of 0 person\n",
    "- Mean and variance are $\\lambda$ where $\\lambda > 0$ - this is because of the fact how poisson is defined. Poisson is defined based on $\\lambda$"
   ]
  },
  {
   "cell_type": "markdown",
   "metadata": {},
   "source": [
    "## Geometric Distribution"
   ]
  },
  {
   "cell_type": "markdown",
   "metadata": {},
   "source": [
    "- This is also a Discrete discrete distribution\n",
    "- Number of attempts before an event\n",
    "- Example : Number of times you need to toss a coin before getting 1st head, Number of tails you see before first head\n",
    "- The interarrival counterpart of a binomial distribution\n",
    "- PMF Formula: $$(1-P)^{k -1}P$$\n",
    "- CDF Formula: $$1-(1-P)^k$$\n",
    "- Mean: $$1 \\over P$$\n",
    "- Variance: $${1-P} \\over P^2$$"
   ]
  },
  {
   "cell_type": "markdown",
   "metadata": {},
   "source": [
    "## Exponential Distribution"
   ]
  },
  {
   "cell_type": "markdown",
   "metadata": {},
   "source": [
    "- The interarrival time of the Poisson distribution\n",
    "- The continuous version of the geometric distribution\n",
    "- Example : How long should I wait till next person arrives, how long will it take this bulb to fail\n",
    "- Memoryless\n",
    "- PDF Formula : $$\\lambda e^{-\\lambda x}$$ where $\\lambda > 0$\n",
    "- CDF : $$1-e^{-\\lambda x}$$\n",
    "- Mean: $$1 \\over \\lambda$$\n",
    "- Variance: $$1 \\over \\lambda^2$$"
   ]
  },
  {
   "cell_type": "markdown",
   "metadata": {},
   "source": [
    "## Normal Distribution"
   ]
  },
  {
   "cell_type": "markdown",
   "metadata": {},
   "source": [
    "- Bell shaped curve\n",
    "- PDF Formula : $$P(x, \\sigma, \\mu) =  {1 \\over {\\sigma \\sqrt{2 \\pi}}} e^{-(x-\\mu)^2 \\over 2 \\sigma^2}$$\n",
    "- Note, to apply this formula, you need to have mean and variance beforehand.\n",
    "- Things on extreme side is most unlikely while in center is most likely\n",
    "- Mean , variance, CDF - integration, rather complex calculus\n",
    "- Height, Weight, ect\n",
    "- Many things after removal of outliers"
   ]
  },
  {
   "cell_type": "markdown",
   "metadata": {},
   "source": [
    "## Binomial approximation"
   ]
  },
  {
   "cell_type": "markdown",
   "metadata": {},
   "source": [
    "When experiment size is huge, calculation in binomial distribution becomes really messy, hence take help of binomial approximation."
   ]
  },
  {
   "cell_type": "markdown",
   "metadata": {},
   "source": [
    "We know the mean and variance for binomial distribution, now we can construct a normal distribution with mean and variance and use that to answer distribution related questions"
   ]
  },
  {
   "cell_type": "markdown",
   "metadata": {},
   "source": [
    "## Central Limit Theorem"
   ]
  },
  {
   "cell_type": "markdown",
   "metadata": {},
   "source": [
    "- The aggregation of a sufficiently large number of independent random variables in a random variable which will approximately normal."
   ]
  },
  {
   "cell_type": "code",
   "execution_count": null,
   "metadata": {},
   "outputs": [],
   "source": []
  }
 ],
 "metadata": {
  "kernelspec": {
   "display_name": "Python 3",
   "language": "python",
   "name": "python3"
  },
  "language_info": {
   "codemirror_mode": {
    "name": "ipython",
    "version": 3
   },
   "file_extension": ".py",
   "mimetype": "text/x-python",
   "name": "python",
   "nbconvert_exporter": "python",
   "pygments_lexer": "ipython3",
   "version": "3.7.6"
  }
 },
 "nbformat": 4,
 "nbformat_minor": 4
}
