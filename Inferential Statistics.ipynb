{
 "cells": [
  {
   "cell_type": "markdown",
   "metadata": {},
   "source": [
    "- Idea behind inferential statistics is the make an inference about population from a sample\n",
    "- In descriptive statistics we never care about saying something about population. Our focus is to describe the sample. But in inferential statistics we make inference about population.\n",
    "\n",
    "- In general, population is the practical concept, example being '10th standard student in india studying in public school'. However, somtimes population can be theoratical abstract concept, eaxmple being 'I created a new machine which produces some product and I am ineterested in the dimension of the product', but in this situation, I don't really have the actual product upfront. hence population here is just a concept. Now, you can produce some product and consider it as sample and go on with statistical analysis on that sample and make some inference about the 'conceptual population of products' as well as the machine"
   ]
  },
  {
   "cell_type": "markdown",
   "metadata": {},
   "source": [
    "- The need for an inference: One-Sample and Two-Sample Examples\n",
    "    - One-Sample Situations\n",
    "        - Average phosphate levels in Blood should be =< 4.8 mg/dl\n",
    "        - Health department only allows 5% of the toothpastes fch brand to be out of specification(ratio of fluoride, abrasives, etc.)\n",
    "        - New garage is inflating repair costs for accidents. Insurance fraud is suspected."
   ]
  },
  {
   "cell_type": "code",
   "execution_count": null,
   "metadata": {},
   "outputs": [],
   "source": []
  }
 ],
 "metadata": {
  "kernelspec": {
   "display_name": "Python 3",
   "language": "python",
   "name": "python3"
  },
  "language_info": {
   "codemirror_mode": {
    "name": "ipython",
    "version": 3
   },
   "file_extension": ".py",
   "mimetype": "text/x-python",
   "name": "python",
   "nbconvert_exporter": "python",
   "pygments_lexer": "ipython3",
   "version": "3.7.6"
  }
 },
 "nbformat": 4,
 "nbformat_minor": 4
}
